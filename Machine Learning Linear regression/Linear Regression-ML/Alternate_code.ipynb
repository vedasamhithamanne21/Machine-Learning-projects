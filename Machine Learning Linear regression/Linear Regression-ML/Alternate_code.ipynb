{
 "cells": [
  {
   "cell_type": "code",
   "execution_count": 1,
   "metadata": {},
   "outputs": [],
   "source": [
    "import numpy as np\n",
    "import random\n",
    "import math\n",
    "from sklearn.model_selection import cross_val_predict\n",
    "from sklearn import metrics, linear_model\n",
    "from sklearn.model_selection import StratifiedKFold, train_test_split"
   ]
  },
  {
   "cell_type": "code",
   "execution_count": 2,
   "metadata": {},
   "outputs": [],
   "source": [
    "iris_data = np.loadtxt(\"iris.data\", dtype=\"str\", delimiter=\",\")\n",
    " \n",
    "shuffled_data = random.shuffle(iris_data)\n",
    "\n",
    "size_of_data = iris_data.shape[0]\n",
    "i=5\n",
    "\n"
   ]
  },
  {
   "cell_type": "code",
   "execution_count": 3,
   "metadata": {},
   "outputs": [],
   "source": [
    "test_size = math.floor(size_of_data * 0.8)\n",
    "\n",
    "train = iris_data[0:test_size, :-1].astype(float)\n",
    "test = iris_data[test_size: , : -1].astype(float)\n",
    "\n",
    "train_Mat_Y = iris_data[0:test_size, -1]\n",
    "train_Mat_Y[train_Mat_Y == \"Iris-setosa\" ] = 0\n",
    "train_Mat_Y[train_Mat_Y == \"Iris-virginica\" ] = 1\n",
    "train_Mat_Y[train_Mat_Y == \"Iris-versicolor\" ] = 2\n",
    "\n"
   ]
  },
  {
   "cell_type": "code",
   "execution_count": 4,
   "metadata": {},
   "outputs": [],
   "source": [
    "test_Mat_Y = iris_data[test_size: , -1]\n",
    "test_Mat_Y[test_Mat_Y == \"Iris-setosa\" ] = 0\n",
    "test_Mat_Y[test_Mat_Y == \"Iris-virginica\" ] = 1\n",
    "test_Mat_Y[test_Mat_Y == \"Iris-versicolor\" ] = 2"
   ]
  },
  {
   "cell_type": "code",
   "execution_count": 5,
   "metadata": {},
   "outputs": [],
   "source": [
    "train_Mat_Y= train_Mat_Y.astype(float)\n",
    "test_Mat_Y= test_Mat_Y.astype(float)\n"
   ]
  },
  {
   "cell_type": "code",
   "execution_count": 6,
   "metadata": {},
   "outputs": [],
   "source": [
    "\n",
    "Mat_A = train\n",
    "TMat_A = np.transpose(Mat_A)\n",
    "Step1 = np.dot(TMat_A,Mat_A)\n",
    "Inv_Step1 = np.linalg.inv(Step1)\n",
    "Step2 = np.dot(Inv_Step1,TMat_A)\n",
    "BetaCap = np.dot(Step2,train_Mat_Y)\n",
    "\n"
   ]
  },
  {
   "cell_type": "code",
   "execution_count": 7,
   "metadata": {},
   "outputs": [
    {
     "name": "stdout",
     "output_type": "stream",
     "text": [
      "The beta cap matrix for the trained model:\n",
      "[ 0.0957825  -0.26382966  0.13499567  0.99238573]\n"
     ]
    }
   ],
   "source": [
    "print(\"The beta cap matrix for the trained model:\")\n",
    "print(BetaCap)\n",
    "\n"
   ]
  },
  {
   "cell_type": "code",
   "execution_count": 8,
   "metadata": {},
   "outputs": [
    {
     "name": "stdout",
     "output_type": "stream",
     "text": [
      "Calculating Cross validation for splits from k=5 to k=10 \n",
      "5 fold CV scores accuracy: 1.0\n",
      "6 fold CV scores accuracy: 1.0\n",
      "7 fold CV scores accuracy: 1.0\n",
      "8 fold CV scores accuracy: 1.0\n",
      "9 fold CV scores accuracy: 1.0\n",
      "10 fold CV scores accuracy: 1.0\n"
     ]
    }
   ],
   "source": [
    "print(\"Calculating Cross validation for splits from k=5 to k=10 \")\n",
    "while(i<=10):\n",
    "    kf = StratifiedKFold(n_splits=i)\n",
    "    Lin_reg = linear_model.LinearRegression()\n",
    "    Trained_model = Lin_reg.fit(train, train_Mat_Y)\n",
    "    Mat_Y = train_Mat_Y.reshape(-1,1)\n",
    "    pred = cross_val_predict(Lin_reg, Mat_Y, train_Mat_Y, cv=i)\n",
    "    accuracy = metrics.r2_score(train_Mat_Y.astype(np.float64), pred)\n",
    "    print('{} fold CV scores accuracy: {}'.format(i,accuracy))\n",
    "    i+=1\n"
   ]
  },
  {
   "cell_type": "code",
   "execution_count": null,
   "metadata": {},
   "outputs": [],
   "source": []
  }
 ],
 "metadata": {
  "colab": {
   "collapsed_sections": [],
   "provenance": []
  },
  "kernelspec": {
   "display_name": "Python 3 (ipykernel)",
   "language": "python",
   "name": "python3"
  },
  "language_info": {
   "codemirror_mode": {
    "name": "ipython",
    "version": 3
   },
   "file_extension": ".py",
   "mimetype": "text/x-python",
   "name": "python",
   "nbconvert_exporter": "python",
   "pygments_lexer": "ipython3",
   "version": "3.9.13"
  }
 },
 "nbformat": 4,
 "nbformat_minor": 1
}
